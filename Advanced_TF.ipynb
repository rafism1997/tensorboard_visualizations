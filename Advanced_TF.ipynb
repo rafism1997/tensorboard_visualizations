{
  "nbformat": 4,
  "nbformat_minor": 0,
  "metadata": {
    "colab": {
      "provenance": [],
      "authorship_tag": "ABX9TyPsQ4KziCeFpYMvKKaBbbyZ",
      "include_colab_link": true
    },
    "kernelspec": {
      "name": "python3",
      "display_name": "Python 3"
    },
    "language_info": {
      "name": "python"
    }
  },
  "cells": [
    {
      "cell_type": "markdown",
      "metadata": {
        "id": "view-in-github",
        "colab_type": "text"
      },
      "source": [
        "<a href=\"https://colab.research.google.com/github/rafism1997/tensorboard_visualizations/blob/main/Advanced_TF.ipynb\" target=\"_parent\"><img src=\"https://colab.research.google.com/assets/colab-badge.svg\" alt=\"Open In Colab\"/></a>"
      ]
    },
    {
      "cell_type": "code",
      "execution_count": null,
      "metadata": {
        "id": "IzxDRwyDSb0C"
      },
      "outputs": [],
      "source": [
        "import tensorflow as tf"
      ]
    },
    {
      "cell_type": "code",
      "source": [
        "from tensorflow.keras.layers import Dense,Flatten,Input\n",
        "\n",
        "input = Input(shape=(28,28))\n",
        "x = Flatten()(input)\n",
        "x = Dense(128,activation=\"relu\")(x)\n",
        "predictions = Dense(10,activation=\"softmax\")(x)\n",
        "func_model = Model(i)"
      ],
      "metadata": {
        "id": "79gGfVXrSimo"
      },
      "execution_count": null,
      "outputs": []
    },
    {
      "cell_type": "code",
      "source": [
        "def model_build_funtional():\n",
        "  from tensorflow.keras.models import Model\n",
        "  input_la"
      ],
      "metadata": {
        "id": "pugt9StXSy38"
      },
      "execution_count": null,
      "outputs": []
    }
  ]
}